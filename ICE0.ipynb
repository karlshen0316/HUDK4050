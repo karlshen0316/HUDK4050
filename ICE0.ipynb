{
 "cells": [
  {
   "cell_type": "markdown",
   "id": "a3b8d11c",
   "metadata": {},
   "source": [
    "# Heading ICE0"
   ]
  },
  {
   "cell_type": "code",
   "execution_count": 2,
   "id": "7f427938",
   "metadata": {},
   "outputs": [
    {
     "name": "stdout",
     "output_type": "stream",
     "text": [
      "Hello World\n"
     ]
    }
   ],
   "source": [
    "print(\"Hello World\")"
   ]
  },
  {
   "cell_type": "code",
   "execution_count": 6,
   "id": "99348e88",
   "metadata": {},
   "outputs": [],
   "source": [
    "x = 2\n",
    "y = 6\n",
    "xy = 'Whatsup'"
   ]
  },
  {
   "cell_type": "code",
   "execution_count": 9,
   "id": "f2f3a36e",
   "metadata": {},
   "outputs": [
    {
     "name": "stdout",
     "output_type": "stream",
     "text": [
      "2 6 8 Whatsup\n"
     ]
    }
   ],
   "source": [
    "print(x,y,x+y,xy)"
   ]
  },
  {
   "cell_type": "code",
   "execution_count": 12,
   "id": "fc057d2b",
   "metadata": {},
   "outputs": [
    {
     "name": "stdout",
     "output_type": "stream",
     "text": [
      "6\n",
      "1\n",
      "6\n"
     ]
    }
   ],
   "source": [
    "print(x)\n",
    "x = 1\n",
    "print(x)\n",
    "x = y\n",
    "print(x)"
   ]
  },
  {
   "cell_type": "code",
   "execution_count": 14,
   "id": "d44d52e9",
   "metadata": {},
   "outputs": [
    {
     "name": "stdout",
     "output_type": "stream",
     "text": [
      "2 + 2 =  4\n",
      "4 - 1 =  3\n",
      "3 * 3 =  9\n",
      "8 / 2 =  4.0\n"
     ]
    }
   ],
   "source": [
    "a = 2 + 2\n",
    "print(\"2 + 2 = \", a)\n",
    "b = 4 - 1\n",
    "print(\"4 - 1 = \", b)\n",
    "c = 3 * 3\n",
    "print(\"3 * 3 = \", c)\n",
    "d = 8 / 2\n",
    "print(\"8 / 2 = \", d)"
   ]
  },
  {
   "cell_type": "code",
   "execution_count": 17,
   "id": "c0bc6701",
   "metadata": {},
   "outputs": [
    {
     "name": "stdout",
     "output_type": "stream",
     "text": [
      "m =  0\n",
      "f =  25\n"
     ]
    }
   ],
   "source": [
    "m = 100 % 4\n",
    "print(\"m = \", m)\n",
    "f = 100 // 4\n",
    "print(\"f = \", f)"
   ]
  },
  {
   "cell_type": "code",
   "execution_count": 21,
   "id": "590d1814",
   "metadata": {},
   "outputs": [
    {
     "name": "stdout",
     "output_type": "stream",
     "text": [
      "a =  4 ; m =  0 ; f =  25\n",
      "a is equal to f?  False\n",
      "a is not equal to f? True\n",
      "m is smaller than f?  True\n"
     ]
    }
   ],
   "source": [
    "print(\"a = \", a, \"; m = \", m, \"; f = \", f)\n",
    "print(\"a is equal to f? \", a == f)\n",
    "print(\"a is not equal to f?\", a !=f)\n",
    "print(\"m is smaller than f? \", m < f)"
   ]
  },
  {
   "cell_type": "code",
   "execution_count": 22,
   "id": "c44951d0",
   "metadata": {},
   "outputs": [],
   "source": [
    "# Comments!!!"
   ]
  },
  {
   "cell_type": "code",
   "execution_count": 23,
   "id": "657231be",
   "metadata": {},
   "outputs": [
    {
     "data": {
      "text/plain": [
       "'C:\\\\Users\\\\19299'"
      ]
     },
     "execution_count": 23,
     "metadata": {},
     "output_type": "execute_result"
    }
   ],
   "source": [
    "import os\n",
    "os.getcwd()"
   ]
  }
 ],
 "metadata": {
  "kernelspec": {
   "display_name": "Python 3",
   "language": "python",
   "name": "python3"
  },
  "language_info": {
   "codemirror_mode": {
    "name": "ipython",
    "version": 3
   },
   "file_extension": ".py",
   "mimetype": "text/x-python",
   "name": "python",
   "nbconvert_exporter": "python",
   "pygments_lexer": "ipython3",
   "version": "3.8.8"
  }
 },
 "nbformat": 4,
 "nbformat_minor": 5
}
